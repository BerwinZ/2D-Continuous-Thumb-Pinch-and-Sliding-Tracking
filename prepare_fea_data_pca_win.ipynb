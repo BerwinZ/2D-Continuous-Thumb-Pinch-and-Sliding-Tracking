{
 "cells": [
  {
   "cell_type": "markdown",
   "metadata": {},
   "source": [
    "# Process generated image dataset \n",
    "1. Extract 20 features from the image and store in features.csv\n",
    "2. Use PCA to get the main component of 20 features and store in components.csv"
   ]
  },
  {
   "cell_type": "markdown",
   "metadata": {},
   "source": [
    "## 1. Initialization"
   ]
  },
  {
   "cell_type": "code",
   "execution_count": 1,
   "metadata": {},
   "outputs": [],
   "source": [
    "step = 2\n",
    "img_folder = r\".\\GeneratedDataset\\Dataset_Step=\" + str(step)\n",
    "origin_path = img_folder + r\"\\data.csv\"\n",
    "processed_folder = r\".\\ProcessedData\\Dataset_Step=\" + str(step)\n",
    "features_path = processed_folder + r\"\\features.csv\"\n",
    "calc_components_path = processed_folder + r\"\\calc_components.csv\"\n",
    "components_path = processed_folder + r\"\\components.csv\"\n",
    "# %load_ext autoreload\n",
    "# %autoreload 2"
   ]
  },
  {
   "cell_type": "code",
   "execution_count": 6,
   "metadata": {},
   "outputs": [],
   "source": [
    "import pandas as pd\n",
    "from enum import Enum\n",
    "import os\n",
    "import numpy as np\n",
    "import cv2\n",
    "from matplotlib import pyplot as plt\n",
    "import timeit\n",
    "from IPython.display import clear_output\n",
    "from sklearn.decomposition import PCA\n",
    "from feature_extraction import extract_features\n",
    "from draw_tools import draw_points, draw_contours"
   ]
  },
  {
   "cell_type": "markdown",
   "metadata": {},
   "source": [
    "## 2. Extract Features from images\n",
    "Interative read image, process the image, extract features, store in features_pd  \n",
    "If you already have the features_pd .csv file, jump to [here](#PCA)"
   ]
  },
  {
   "cell_type": "markdown",
   "metadata": {},
   "source": [
    "### Read CSV data from original data"
   ]
  },
  {
   "cell_type": "code",
   "execution_count": 3,
   "metadata": {},
   "outputs": [
    {
     "data": {
      "text/html": [
       "<div>\n",
       "<style scoped>\n",
       "    .dataframe tbody tr th:only-of-type {\n",
       "        vertical-align: middle;\n",
       "    }\n",
       "\n",
       "    .dataframe tbody tr th {\n",
       "        vertical-align: top;\n",
       "    }\n",
       "\n",
       "    .dataframe thead th {\n",
       "        text-align: right;\n",
       "    }\n",
       "</style>\n",
       "<table border=\"1\" class=\"dataframe\">\n",
       "  <thead>\n",
       "    <tr style=\"text-align: right;\">\n",
       "      <th></th>\n",
       "      <th>Gamma1</th>\n",
       "      <th>Gamma2</th>\n",
       "      <th>Gamma3</th>\n",
       "      <th>Alpha1</th>\n",
       "      <th>Alpha2</th>\n",
       "      <th>Beta</th>\n",
       "      <th>thumb_x</th>\n",
       "      <th>thumb_y</th>\n",
       "      <th>index_x</th>\n",
       "      <th>index_y</th>\n",
       "      <th>ImgName</th>\n",
       "    </tr>\n",
       "  </thead>\n",
       "  <tbody>\n",
       "    <tr>\n",
       "      <th>0</th>\n",
       "      <td>0.0</td>\n",
       "      <td>0.0</td>\n",
       "      <td>0.0</td>\n",
       "      <td>0.0</td>\n",
       "      <td>0.0</td>\n",
       "      <td>0.0</td>\n",
       "      <td>1</td>\n",
       "      <td>2</td>\n",
       "      <td>1</td>\n",
       "      <td>-2</td>\n",
       "      <td>2020_4_2_14_49_53_14_7905.png</td>\n",
       "    </tr>\n",
       "    <tr>\n",
       "      <th>1</th>\n",
       "      <td>0.0</td>\n",
       "      <td>0.0</td>\n",
       "      <td>-2.0</td>\n",
       "      <td>0.0</td>\n",
       "      <td>0.0</td>\n",
       "      <td>0.0</td>\n",
       "      <td>1</td>\n",
       "      <td>2</td>\n",
       "      <td>1</td>\n",
       "      <td>-1</td>\n",
       "      <td>2020_4_2_14_49_53_15_1130.png</td>\n",
       "    </tr>\n",
       "    <tr>\n",
       "      <th>2</th>\n",
       "      <td>0.0</td>\n",
       "      <td>0.0</td>\n",
       "      <td>0.0</td>\n",
       "      <td>0.0</td>\n",
       "      <td>2.0</td>\n",
       "      <td>0.0</td>\n",
       "      <td>1</td>\n",
       "      <td>2</td>\n",
       "      <td>1</td>\n",
       "      <td>-1</td>\n",
       "      <td>2020_4_2_14_49_53_15_2150.png</td>\n",
       "    </tr>\n",
       "    <tr>\n",
       "      <th>3</th>\n",
       "      <td>0.0</td>\n",
       "      <td>0.0</td>\n",
       "      <td>0.0</td>\n",
       "      <td>0.0</td>\n",
       "      <td>-2.0</td>\n",
       "      <td>0.0</td>\n",
       "      <td>1</td>\n",
       "      <td>3</td>\n",
       "      <td>1</td>\n",
       "      <td>-2</td>\n",
       "      <td>2020_4_2_14_49_53_15_2767.png</td>\n",
       "    </tr>\n",
       "    <tr>\n",
       "      <th>4</th>\n",
       "      <td>0.0</td>\n",
       "      <td>0.0</td>\n",
       "      <td>0.0</td>\n",
       "      <td>0.0</td>\n",
       "      <td>0.0</td>\n",
       "      <td>2.0</td>\n",
       "      <td>0</td>\n",
       "      <td>3</td>\n",
       "      <td>0</td>\n",
       "      <td>-2</td>\n",
       "      <td>2020_4_2_14_49_53_15_3038.png</td>\n",
       "    </tr>\n",
       "    <tr>\n",
       "      <th>5</th>\n",
       "      <td>0.0</td>\n",
       "      <td>0.0</td>\n",
       "      <td>0.0</td>\n",
       "      <td>0.0</td>\n",
       "      <td>0.0</td>\n",
       "      <td>-2.0</td>\n",
       "      <td>3</td>\n",
       "      <td>2</td>\n",
       "      <td>2</td>\n",
       "      <td>-2</td>\n",
       "      <td>2020_4_2_14_49_53_15_3463.png</td>\n",
       "    </tr>\n",
       "    <tr>\n",
       "      <th>6</th>\n",
       "      <td>0.0</td>\n",
       "      <td>0.0</td>\n",
       "      <td>-2.0</td>\n",
       "      <td>2.0</td>\n",
       "      <td>0.0</td>\n",
       "      <td>0.0</td>\n",
       "      <td>1</td>\n",
       "      <td>1</td>\n",
       "      <td>1</td>\n",
       "      <td>0</td>\n",
       "      <td>2020_4_2_14_49_53_15_5296.png</td>\n",
       "    </tr>\n",
       "    <tr>\n",
       "      <th>7</th>\n",
       "      <td>0.0</td>\n",
       "      <td>0.0</td>\n",
       "      <td>-2.0</td>\n",
       "      <td>0.0</td>\n",
       "      <td>2.0</td>\n",
       "      <td>0.0</td>\n",
       "      <td>1</td>\n",
       "      <td>2</td>\n",
       "      <td>1</td>\n",
       "      <td>-1</td>\n",
       "      <td>2020_4_2_14_49_53_15_6131.png</td>\n",
       "    </tr>\n",
       "    <tr>\n",
       "      <th>8</th>\n",
       "      <td>0.0</td>\n",
       "      <td>0.0</td>\n",
       "      <td>-2.0</td>\n",
       "      <td>0.0</td>\n",
       "      <td>0.0</td>\n",
       "      <td>2.0</td>\n",
       "      <td>0</td>\n",
       "      <td>2</td>\n",
       "      <td>0</td>\n",
       "      <td>-1</td>\n",
       "      <td>2020_4_2_14_49_53_15_7131.png</td>\n",
       "    </tr>\n",
       "    <tr>\n",
       "      <th>9</th>\n",
       "      <td>0.0</td>\n",
       "      <td>0.0</td>\n",
       "      <td>0.0</td>\n",
       "      <td>-2.0</td>\n",
       "      <td>2.0</td>\n",
       "      <td>0.0</td>\n",
       "      <td>1</td>\n",
       "      <td>3</td>\n",
       "      <td>1</td>\n",
       "      <td>-2</td>\n",
       "      <td>2020_4_2_14_49_54_15_9813.png</td>\n",
       "    </tr>\n",
       "  </tbody>\n",
       "</table>\n",
       "</div>"
      ],
      "text/plain": [
       "   Gamma1  Gamma2  Gamma3  Alpha1  Alpha2  Beta  thumb_x  thumb_y  index_x  \\\n",
       "0     0.0     0.0     0.0     0.0     0.0   0.0        1        2        1   \n",
       "1     0.0     0.0    -2.0     0.0     0.0   0.0        1        2        1   \n",
       "2     0.0     0.0     0.0     0.0     2.0   0.0        1        2        1   \n",
       "3     0.0     0.0     0.0     0.0    -2.0   0.0        1        3        1   \n",
       "4     0.0     0.0     0.0     0.0     0.0   2.0        0        3        0   \n",
       "5     0.0     0.0     0.0     0.0     0.0  -2.0        3        2        2   \n",
       "6     0.0     0.0    -2.0     2.0     0.0   0.0        1        1        1   \n",
       "7     0.0     0.0    -2.0     0.0     2.0   0.0        1        2        1   \n",
       "8     0.0     0.0    -2.0     0.0     0.0   2.0        0        2        0   \n",
       "9     0.0     0.0     0.0    -2.0     2.0   0.0        1        3        1   \n",
       "\n",
       "   index_y                        ImgName  \n",
       "0       -2  2020_4_2_14_49_53_14_7905.png  \n",
       "1       -1  2020_4_2_14_49_53_15_1130.png  \n",
       "2       -1  2020_4_2_14_49_53_15_2150.png  \n",
       "3       -2  2020_4_2_14_49_53_15_2767.png  \n",
       "4       -2  2020_4_2_14_49_53_15_3038.png  \n",
       "5       -2  2020_4_2_14_49_53_15_3463.png  \n",
       "6        0  2020_4_2_14_49_53_15_5296.png  \n",
       "7       -1  2020_4_2_14_49_53_15_6131.png  \n",
       "8       -1  2020_4_2_14_49_53_15_7131.png  \n",
       "9       -2  2020_4_2_14_49_54_15_9813.png  "
      ]
     },
     "execution_count": 3,
     "metadata": {},
     "output_type": "execute_result"
    }
   ],
   "source": [
    "origin_pd = pd.read_csv(origin_path)\n",
    "origin_pd.head(10)"
   ]
  },
  {
   "cell_type": "markdown",
   "metadata": {},
   "source": [
    "### Initialize a features_pd dataframe"
   ]
  },
  {
   "cell_type": "code",
   "execution_count": 4,
   "metadata": {},
   "outputs": [],
   "source": [
    "class Features(Enum):\n",
    "    Defect_left_x   = 0    # left defect point\n",
    "    Defect_left_y   = 1    # left defect point\n",
    "    Defect_right_x  = 2    # right defect point\n",
    "    Defect_right_y  = 3    # right defect point\n",
    "    Centroid_up_x   = 4    # up finger (thumb) centroid point\n",
    "    Centroid_up_y   = 5    # up finger (thumb) centroid point\n",
    "    Centroid_down_x = 6    # down finger (index finger) centroid point\n",
    "    Centroid_down_y = 7    # down finger (index finger) centroid point\n",
    "    Top_left_x      = 8    # top left point of the boundary\n",
    "    Top_left_y      = 9    # top left point of the boundary\n",
    "    Top_right_x     = 10    # top right point of the boundary\n",
    "    Top_right_y     = 11   # top right point of the boundary\n",
    "    Bottom_left_x   = 12   # bottom left point of the boundary\n",
    "    Bottom_left_y   = 13   # bottom left point of the boundary\n",
    "    Bottom_right_x  = 14   # bottom right point of the boundary\n",
    "    Bottom_right_y  = 15   # bottom right point of the boundary\n",
    "    Lowest_up_x     = 16   # lowest point of up finger (thumb)   \n",
    "    Lowest_up_y     = 17   # lowest point of up finger (thumb)  \n",
    "    Rightest_down_x = 18   # rightest point of down finger (index finger)\n",
    "    Rightest_down_y = 19   # rightest point of down finger (index finger)\n",
    "\n",
    "class Labels(Enum):\n",
    "    Thumb_x = 0\n",
    "    Thumb_y = 1\n",
    "    Index_x = 2\n",
    "    Index_y = 3\n",
    "    ImgName = 4"
   ]
  },
  {
   "cell_type": "code",
   "execution_count": 5,
   "metadata": {},
   "outputs": [
    {
     "data": {
      "text/html": [
       "<div>\n",
       "<style scoped>\n",
       "    .dataframe tbody tr th:only-of-type {\n",
       "        vertical-align: middle;\n",
       "    }\n",
       "\n",
       "    .dataframe tbody tr th {\n",
       "        vertical-align: top;\n",
       "    }\n",
       "\n",
       "    .dataframe thead th {\n",
       "        text-align: right;\n",
       "    }\n",
       "</style>\n",
       "<table border=\"1\" class=\"dataframe\">\n",
       "  <thead>\n",
       "    <tr style=\"text-align: right;\">\n",
       "      <th></th>\n",
       "      <th>Defect_left_x</th>\n",
       "      <th>Defect_left_y</th>\n",
       "      <th>Defect_right_x</th>\n",
       "      <th>Defect_right_y</th>\n",
       "      <th>Centroid_up_x</th>\n",
       "      <th>Centroid_up_y</th>\n",
       "      <th>Centroid_down_x</th>\n",
       "      <th>Centroid_down_y</th>\n",
       "      <th>Top_left_x</th>\n",
       "      <th>Top_left_y</th>\n",
       "      <th>...</th>\n",
       "      <th>Bottom_right_y</th>\n",
       "      <th>Lowest_up_x</th>\n",
       "      <th>Lowest_up_y</th>\n",
       "      <th>Rightest_down_x</th>\n",
       "      <th>Rightest_down_y</th>\n",
       "      <th>Thumb_x</th>\n",
       "      <th>Thumb_y</th>\n",
       "      <th>Index_x</th>\n",
       "      <th>Index_y</th>\n",
       "      <th>ImgName</th>\n",
       "    </tr>\n",
       "  </thead>\n",
       "  <tbody>\n",
       "  </tbody>\n",
       "</table>\n",
       "<p>0 rows × 25 columns</p>\n",
       "</div>"
      ],
      "text/plain": [
       "Empty DataFrame\n",
       "Columns: [Defect_left_x, Defect_left_y, Defect_right_x, Defect_right_y, Centroid_up_x, Centroid_up_y, Centroid_down_x, Centroid_down_y, Top_left_x, Top_left_y, Top_right_x, Top_right_y, Bottom_left_x, Bottom_left_y, Bottom_right_x, Bottom_right_y, Lowest_up_x, Lowest_up_y, Rightest_down_x, Rightest_down_y, Thumb_x, Thumb_y, Index_x, Index_y, ImgName]\n",
       "Index: []\n",
       "\n",
       "[0 rows x 25 columns]"
      ]
     },
     "execution_count": 5,
     "metadata": {},
     "output_type": "execute_result"
    }
   ],
   "source": [
    "col = [str(_).split('.')[1] for _ in Features]\n",
    "col.extend([str(_).split('.')[1] for _ in Labels])\n",
    "features_pd = pd.DataFrame(None, columns=col)\n",
    "features_pd.head(10)"
   ]
  },
  {
   "cell_type": "markdown",
   "metadata": {},
   "source": [
    "### Iterate the images and add data to feature_pd dataframe"
   ]
  },
  {
   "cell_type": "code",
   "execution_count": 7,
   "metadata": {},
   "outputs": [],
   "source": [
    "def calc_features_points(pd, row, is_draw=False):\n",
    "    img_name = pd.loc[row]['ImgName']\n",
    "    img_path = os.path.join(img_folder, img_name)\n",
    "    bgr_image = cv2.imread(img_path)\n",
    "    IM_HEIGHT, IM_WIDTH, _ = bgr_image.shape\n",
    "\n",
    "    # ---------------------------------------------\n",
    "    # 1.1 Get the mask and its contour and apply the mask to image\n",
    "    # ---------------------------------------------\n",
    "    gray_image = cv2.cvtColor(bgr_image, cv2.COLOR_BGR2GRAY)\n",
    "    _, mask = cv2.threshold(gray_image, 10, 1, cv2.THRESH_BINARY)\n",
    "    finger_image = cv2.bitwise_and(bgr_image, bgr_image, mask=mask)\n",
    "    # Get the all contours, CHAIN_APPROX_NONE means get all the points\n",
    "    _, contours, _ = cv2.findContours(mask, cv2.RETR_CCOMP, cv2.CHAIN_APPROX_NONE)\n",
    "    contour = contours[0]\n",
    "\n",
    "    # ---------------------------------------------\n",
    "    # 1.2 segment features\n",
    "    # ---------------------------------------------\n",
    "    out_image = finger_image if is_draw else None\n",
    "    features = extract_features(contour, gray_image.shape[0], gray_image.shape[1], out_image)\n",
    "    \n",
    "    # ---------------------------------------------\n",
    "    # 1.2 If show the points\n",
    "    # ---------------------------------------------\n",
    "    if is_draw:\n",
    "        plt.imshow(cv2.cvtColor(finger_image, cv2.COLOR_BGR2RGB))\n",
    "        plt.show()\n",
    "    \n",
    "    return features"
   ]
  },
  {
   "cell_type": "code",
   "execution_count": null,
   "metadata": {},
   "outputs": [],
   "source": [
    "start_time = timeit.default_timer()\n",
    "\n",
    "for row in range(len(origin_pd)):\n",
    "    features = calc_features_points(origin_pd, row)\n",
    "    if features is None:\n",
    "        continue\n",
    "    else:\n",
    "        features = np.array(features).flatten()\n",
    "        labels = [origin_pd.loc[row]['thumb_x'], origin_pd.loc[row]['thumb_y'],\n",
    "                  origin_pd.loc[row]['index_x'], origin_pd.loc[row]['index_y'],\n",
    "                  origin_pd.loc[row]['ImgName']]\n",
    "        features = np.append(features, labels)\n",
    "        features_pd = features_pd.append(\n",
    "                    pd.Series(features, index=features_pd.columns), \n",
    "                    ignore_index=True)\n",
    "    \n",
    "    clear_output(wait=True)\n",
    "    stop_time = timeit.default_timer()\n",
    "    print(\"Current Progress:\", np.round((row + 1) / len(origin_pd) * 100, 2), \"%\")\n",
    "    print(\"Current Run Time:\", np.round((stop_time - start_time) / 60, 2), \"minutes\")\n",
    "    print(\"Excepted Run Time:\", np.round((stop_time - start_time) * \n",
    "                                         (len(origin_pd) / (row + 1) - 1) / 60, 2), \"minutes\")\n",
    "\n",
    "print(\"Generate\", len(features_pd), \"items from\", len(origin_pd), \"samples\")"
   ]
  },
  {
   "cell_type": "code",
   "execution_count": 11,
   "metadata": {},
   "outputs": [
    {
     "name": "stdout",
     "output_type": "stream",
     "text": [
      "Generate 465470 items from 506327 samples\n"
     ]
    }
   ],
   "source": [
    "print(\"Generate\", len(features_pd), \"items from\", len(origin_pd), \"samples\")"
   ]
  },
  {
   "cell_type": "markdown",
   "metadata": {},
   "source": [
    "### Save to .csv file"
   ]
  },
  {
   "cell_type": "code",
   "execution_count": 12,
   "metadata": {},
   "outputs": [],
   "source": [
    "if not os.path.exists(processed_folder):\n",
    "    os.mkdir(processed_folder)\n",
    "features_pd.to_csv(features_path, index=False)"
   ]
  },
  {
   "cell_type": "markdown",
   "metadata": {},
   "source": [
    "<span id=\"PCA\"></span>\n",
    "## 3. Use PCA for main components of images\n",
    "This is use PCA to get the main components\n",
    "If you already have the component_pd .csv file, jump to [here](#KNN)"
   ]
  },
  {
   "cell_type": "markdown",
   "metadata": {},
   "source": [
    "#### Read features data from csv file and pack to numpy array"
   ]
  },
  {
   "cell_type": "code",
   "execution_count": 13,
   "metadata": {},
   "outputs": [
    {
     "name": "stdout",
     "output_type": "stream",
     "text": [
      "Shape of feature numpy for PCA (465470, 20)\n"
     ]
    }
   ],
   "source": [
    "features_pd = pd.read_csv(features_path)\n",
    "X = features_pd.iloc[:, 0: 20].to_numpy()\n",
    "print(\"Shape of feature numpy for PCA\", X.shape)"
   ]
  },
  {
   "cell_type": "markdown",
   "metadata": {},
   "source": [
    "#### Use PCA to get component analysis"
   ]
  },
  {
   "cell_type": "code",
   "execution_count": 14,
   "metadata": {},
   "outputs": [
    {
     "name": "stdout",
     "output_type": "stream",
     "text": [
      "Extract 20 components from 20 features\n",
      "Percentages of components\n",
      " [1. 0. 0. 0. 0. 0. 0. 0. 0. 0. 0. 0. 0. 0. 0. 0. 0. 0. 0. 0.]\n",
      "Accumulated percentages of components\n",
      " [(0, 1.0), (1, 1.0), (2, 1.0), (3, 1.0), (4, 1.0), (5, 1.0), (6, 1.0), (7, 1.0), (8, 1.0), (9, 1.0), (10, 1.0), (11, 1.0), (12, 1.0), (13, 1.0), (14, 1.0), (15, 1.0), (16, 1.0), (17, 1.0), (18, 1.0), (19, 1.0)]\n"
     ]
    }
   ],
   "source": [
    "# pca = PCA(n_components='mle')\n",
    "pca = PCA()\n",
    "pca.fit(X)\n",
    "print(\"Extract\", pca.n_components_, \"components from\", pca.n_features_, \"features\")\n",
    "print(\"Percentages of components\\n\", np.round(pca.explained_variance_ratio_, 3))\n",
    "accumulated_ratio = [np.round(sum(pca.explained_variance_ratio_[:i+1]), 3) \n",
    "                    for i in range(len(pca.explained_variance_ratio_))]\n",
    "print(\"Accumulated percentages of components\\n\", list(enumerate(accumulated_ratio)))"
   ]
  },
  {
   "cell_type": "markdown",
   "metadata": {},
   "source": [
    "#### Choose Components and save in disk"
   ]
  },
  {
   "cell_type": "code",
   "execution_count": 15,
   "metadata": {},
   "outputs": [
    {
     "name": "stdout",
     "output_type": "stream",
     "text": [
      "Choose 1 components\n"
     ]
    }
   ],
   "source": [
    "threshold = 0.95\n",
    "components_num = np.where(np.array(accumulated_ratio) >= threshold)[0][0] + 1\n",
    "print(\"Choose\", components_num, \"components\")\n",
    "\n",
    "# ---------------------------------------------\n",
    "# Store calculation method\n",
    "# ---------------------------------------------\n",
    "weight_list = pca.components_[:components_num]\n",
    "calc_component_pd = pd.DataFrame(weight_list, columns=features_pd.columns[:20])\n",
    "calc_component_pd.to_csv(calc_components_path, index=False)\n",
    "\n",
    "# ---------------------------------------------\n",
    "# Store component data\n",
    "# ---------------------------------------------\n",
    "component_data = pca.transform(X)[:, :components_num]\n",
    "col = []\n",
    "for i in range(components_num):\n",
    "    col.append(\"Component_\" + str(i))\n",
    "component_pd = pd.DataFrame(component_data, columns=col)\n",
    "labels_pd = features_pd.iloc[:, 20: len(features_pd.columns)]\n",
    "component_pd = component_pd.join(labels_pd)\n",
    "component_pd.to_csv(components_path, index=False)"
   ]
  },
  {
   "cell_type": "markdown",
   "metadata": {},
   "source": [
    "<span id=\"KNN\"></span>\n",
    "## 4. Use KNN"
   ]
  },
  {
   "cell_type": "code",
   "execution_count": 1,
   "metadata": {},
   "outputs": [],
   "source": [
    "components_path =  r\"models\\pca\\components.csv\"\n",
    "calc_components_path = r\"models\\pca\\calc_components.csv\"\n",
    "\n",
    "from sklearn.neighbors import KNeighborsClassifier\n",
    "from sklearn.model_selection import train_test_split\n",
    "import pandas as pd\n",
    "import numpy as np"
   ]
  },
  {
   "cell_type": "code",
   "execution_count": 2,
   "metadata": {},
   "outputs": [
    {
     "name": "stdout",
     "output_type": "stream",
     "text": [
      "Shape of X (465470, 1) Shape of Y (465470, 2)\n",
      "Train dataset shape\n",
      "X: (325829, 1)  Y: (325829, 2)\n",
      "Test dataset shape\n",
      "X: (139641, 1)  Y: (139641, 2)\n"
     ]
    }
   ],
   "source": [
    "components_pd = pd.read_csv(components_path)\n",
    "X = components_pd.iloc[:, 0].to_numpy().reshape(-1, 1)\n",
    "Y = components_pd.iloc[:, 1:3].to_numpy()\n",
    "print(\"Shape of X\", X.shape, \"Shape of Y\", Y.shape)\n",
    "\n",
    "X_train, X_test, Y_train, Y_test = train_test_split(X, Y, test_size=0.3, random_state=42)\n",
    "print(\"Train dataset shape\")\n",
    "print(\"X:\", X_train.shape, \" Y:\", Y_train.shape)\n",
    "print(\"Test dataset shape\")\n",
    "print(\"X:\", X_test.shape, \" Y:\", Y_test.shape)"
   ]
  },
  {
   "cell_type": "code",
   "execution_count": 24,
   "metadata": {},
   "outputs": [
    {
     "name": "stdout",
     "output_type": "stream",
     "text": [
      "0.31252896457958007 0.2674746569519595 0.2606111385624566 0.2150013248258033\n"
     ]
    }
   ],
   "source": [
    "neighbors = 41\n",
    "neigh_x = KNeighborsClassifier(n_neighbors=neighbors)\n",
    "neigh_y = KNeighborsClassifier(n_neighbors=neighbors)\n",
    "neigh_x.fit(X_train, Y_train[:, 0])\n",
    "neigh_y.fit(X_train, Y_train[:, 1])\n",
    "train_sc1 = neigh_x.score(X_train, Y_train[:, 0])\n",
    "train_sc2 = neigh_y.score(X_train, Y_train[:, 1])\n",
    "test_sc1 = neigh_x.score(X_test, Y_test[:, 0])\n",
    "test_sc2 = neigh_y.score(X_test, Y_test[:, 1])\n",
    "print(train_sc1, train_sc2, test_sc1, test_sc2)"
   ]
  },
  {
   "cell_type": "code",
   "execution_count": 22,
   "metadata": {},
   "outputs": [
    {
     "name": "stdout",
     "output_type": "stream",
     "text": [
      "0.31252896457958007 0.2674746569519595 0.2606111385624566 0.2150013248258033\n",
      "0.31126449763526265 0.26661837957947265 0.259988112373873 0.2156744795582959\n",
      "0.30996933974569485 0.265700720316485 0.2597661145365616 0.2158033815283477\n",
      "0.3087570474083031 0.2652710470829791 0.2593149576413804 0.2157604142049971\n",
      "0.30842558519959856 0.26398509647698637 0.2588208334228486 0.21530925730981587\n",
      "0.3072593292800825 0.26323316831835103 0.25887812318731607 0.21524480632478998\n",
      "0.3063293936389947 0.2625641057118918 0.2580402603819795 0.21545964294154296\n",
      "0.3055836036694094 0.2616894137722548 0.2579972930586289 0.21507293703138763\n",
      "0.3049206792520003 0.26080244545451753 0.25766071569238264 0.21523764510423157\n",
      "0.30360403770075717 0.25981419701745395 0.2570018834010069 0.21492971262021898\n",
      "0.302431643592191 0.25915127260004484 0.2566509835936437 0.21489390651742682\n",
      "0.30158764259780435 0.25842696629213485 0.25695891607765625 0.21508725947250448\n",
      "0.3011886603095489 0.25781928557617645 0.25693027119542255 0.21490106773798526\n",
      "0.30028020833013636 0.25686172808436325 0.25662949993196843 0.21441410474001188\n",
      "0.29932878902737325 0.25605455622427714 0.25641466331521545 0.21466474745955702\n",
      "0.2989819813460435 0.25516144971748983 0.25644330819744915 0.21492255139966057\n",
      "0.2980980821228313 0.25425299773807736 0.25672975701978645 0.21407036615320715\n",
      "0.2976561325112252 0.2533506839477149 0.2566366611525268 0.2140130763887397\n",
      "0.29696251714856564 0.2530376363061606 0.2565865326086178 0.21394862540371382\n",
      "0.29653284391505974 0.2524391628737773 0.2563860184329817 0.21384836831589576\n",
      "0.2957011192987733 0.2519910750731212 0.2560279574050601 0.21427088032884326\n",
      "0.295028987597789 0.2514263616805134 0.2559062166555668 0.2142135905643758\n",
      "0.2947282163343349 0.2513097360885618 0.2556913800388138 0.21420642934381737\n",
      "0.2940929137676511 0.2506099825368521 0.25564841271546324 0.21414197835879148\n",
      "0.2932611891513647 0.2499808181592185 0.2549967416446459 0.2139915927270644\n",
      "0.2930494216291368 0.2492135445279579 0.2545885520728153 0.2135189521702079\n",
      "0.29255836650513 0.24851992916529836 0.25417320128042625 0.21338288897959767\n",
      "0.29164684543119246 0.24738743328555776 0.25392255856088114 0.2130964401572604\n",
      "0.2910146119590337 0.24704369469875304 0.2541445563981925 0.21263812204152074\n",
      "0.2901491273029718 0.24645749764446995 0.2528841815799085 0.21326830945066277\n",
      "0.2893112644976353 0.24642680669921954 0.2525476042136622 0.2125808322770533\n",
      "0.2887925875229031 0.2458221950777862 0.2523828961408182 0.21240896298365095\n",
      "0.28808976487666843 0.24521451436182784 0.2517885148344684 0.2121081917201968\n",
      "0.28735011309613323 0.2445884190787192 0.25141613136542995 0.2118647102212101\n",
      "0.2869173707681023 0.2444441716360422 0.2512084559692354 0.2113920696643536\n",
      "0.28644166111672076 0.24379352359673326 0.2510580703375083 0.21142787576714575\n",
      "0.28585546406243767 0.2433086066617766 0.25075013785349576 0.21176445313339207\n",
      "0.2854073762617815 0.24293110803519638 0.25046368903115845 0.2119076775445607\n",
      "0.2852907506698299 0.2423663946425886 0.25003401579765255 0.2113276186793277\n",
      "0.2845357534166695 0.24197048144885813 0.2498907913864839 0.21129181257653554\n",
      "0.28364264690988217 0.24147635723032634 0.24950408547632857 0.21061865784404293\n",
      "0.28312703902967506 0.2411111349818463 0.24943247327074428 0.21022479071332917\n",
      "0.2826636057563937 0.24087481470341804 0.24913170200729012 0.21051123953566647\n",
      "0.2818380193291573 0.24047583241516254 0.24829383920195358 0.21055420685901705\n",
      "0.28164466637407964 0.24017506115170842 0.24784268230677237 0.20993118067043348\n",
      "0.28094491282237 0.23973924972915242 0.24747029883773392 0.2101818233899786\n",
      "0.28056434510126477 0.23928502373944616 0.24736288052935743 0.20959460330418717\n",
      "0.28005487541010776 0.23929423102302128 0.247355719308799 0.20930099326129145\n",
      "0.2794625401667746 0.23915305267486933 0.2471337214714876 0.20919357495291496\n",
      "0.27908811063471944 0.23885228141141518 0.2468687563108256 0.20911480152677223\n",
      "0.27858171003808746 0.23824153160093178 0.24721249489763036 0.20914344640900595\n",
      "0.278259455112958 0.23768295639737408 0.24723397855930565 0.208663644631591\n",
      "0.27791878562067834 0.2368911300099132 0.2469761746192021 0.20838435702981217\n",
      "0.277314173999245 0.23655659870668358 0.2464175994156444 0.20784726548792976\n",
      "0.2769336062781398 0.23635710756255582 0.24633166476894322 0.20784726548792976\n",
      "0.2763535474129068 0.23591515795094972 0.24607386082883967 0.2077470084001117\n",
      "0.2759146668958257 0.2353688591254922 0.24587334665320357 0.20721707807878775\n",
      "0.2755402373637706 0.23485018215076006 0.24589483031487888 0.20698791902091793\n",
      "0.27519649877696584 0.2345033744694303 0.24512141849456823 0.20678740484528182\n",
      "0.27402410466839966 0.2338803482808467 0.24526464290573685 0.2066441804341132\n",
      "0.27367422789254486 0.23353354059951692 0.24549380196360668 0.20652960090517827\n",
      "0.27329366017143963 0.23328187484846347 0.24535057755243803 0.2063362479501006\n",
      "0.27277805229123253 0.23286140889853266 0.2451643858179188 0.20626463574451628\n",
      "0.2721765097643242 0.23251767031172793 0.24462013305547797 0.20551986880643938\n",
      "0.2717100073965178 0.2321892771975484 0.24372498048567398 0.20544109538029662\n",
      "0.27116370857106026 0.2319775096753205 0.24331679091384337 0.20553419124755623\n",
      "0.2707524499047046 0.2317534657749924 0.24300169720927234 0.20562728711481584\n",
      "0.270344260332874 0.2315140764020391 0.24270808716637662 0.20531219341024484\n",
      "0.2701079400544457 0.23127161793456077 0.24282266669531155 0.2054124504980629\n",
      "0.26947877567681205 0.23086342836273013 0.24219964050672796 0.2055270300269978\n",
      "0.26919334988598315 0.23020971122889614 0.24205641609555933 0.2051474853374009\n",
      "0.26896930598565505 0.2298137980351657 0.24160525920037812 0.2045674264721679\n",
      "0.2687084329510265 0.22964499783628836 0.24100371667346981 0.20432394497318124\n",
      "0.2682664833394204 0.22939026299070986 0.24127584305469024 0.2043812347376487\n",
      "0.26779998097161395 0.22891148424480326 0.24078171883615843 0.2041162695769867\n"
     ]
    },
    {
     "ename": "KeyboardInterrupt",
     "evalue": "",
     "output_type": "error",
     "traceback": [
      "\u001b[1;31m---------------------------------------------------------------------------\u001b[0m",
      "\u001b[1;31mKeyboardInterrupt\u001b[0m                         Traceback (most recent call last)",
      "\u001b[1;32m<ipython-input-22-153c710af67d>\u001b[0m in \u001b[0;36m<module>\u001b[1;34m\u001b[0m\n\u001b[0;32m      4\u001b[0m     \u001b[0mneigh_x\u001b[0m \u001b[1;33m=\u001b[0m \u001b[0mKNeighborsClassifier\u001b[0m\u001b[1;33m(\u001b[0m\u001b[0mn_neighbors\u001b[0m\u001b[1;33m=\u001b[0m\u001b[0mneighbors\u001b[0m\u001b[1;33m)\u001b[0m\u001b[1;33m\u001b[0m\u001b[1;33m\u001b[0m\u001b[0m\n\u001b[0;32m      5\u001b[0m     \u001b[0mneigh_y\u001b[0m \u001b[1;33m=\u001b[0m \u001b[0mKNeighborsClassifier\u001b[0m\u001b[1;33m(\u001b[0m\u001b[0mn_neighbors\u001b[0m\u001b[1;33m=\u001b[0m\u001b[0mneighbors\u001b[0m\u001b[1;33m)\u001b[0m\u001b[1;33m\u001b[0m\u001b[1;33m\u001b[0m\u001b[0m\n\u001b[1;32m----> 6\u001b[1;33m     \u001b[0mneigh_x\u001b[0m\u001b[1;33m.\u001b[0m\u001b[0mfit\u001b[0m\u001b[1;33m(\u001b[0m\u001b[0mX_train\u001b[0m\u001b[1;33m,\u001b[0m \u001b[0mY_train\u001b[0m\u001b[1;33m[\u001b[0m\u001b[1;33m:\u001b[0m\u001b[1;33m,\u001b[0m \u001b[1;36m0\u001b[0m\u001b[1;33m]\u001b[0m\u001b[1;33m)\u001b[0m\u001b[1;33m\u001b[0m\u001b[1;33m\u001b[0m\u001b[0m\n\u001b[0m\u001b[0;32m      7\u001b[0m     \u001b[0mneigh_y\u001b[0m\u001b[1;33m.\u001b[0m\u001b[0mfit\u001b[0m\u001b[1;33m(\u001b[0m\u001b[0mX_train\u001b[0m\u001b[1;33m,\u001b[0m \u001b[0mY_train\u001b[0m\u001b[1;33m[\u001b[0m\u001b[1;33m:\u001b[0m\u001b[1;33m,\u001b[0m \u001b[1;36m1\u001b[0m\u001b[1;33m]\u001b[0m\u001b[1;33m)\u001b[0m\u001b[1;33m\u001b[0m\u001b[1;33m\u001b[0m\u001b[0m\n\u001b[0;32m      8\u001b[0m     \u001b[0mtrain_sc1\u001b[0m \u001b[1;33m=\u001b[0m \u001b[0mneigh_x\u001b[0m\u001b[1;33m.\u001b[0m\u001b[0mscore\u001b[0m\u001b[1;33m(\u001b[0m\u001b[0mX_train\u001b[0m\u001b[1;33m,\u001b[0m \u001b[0mY_train\u001b[0m\u001b[1;33m[\u001b[0m\u001b[1;33m:\u001b[0m\u001b[1;33m,\u001b[0m \u001b[1;36m0\u001b[0m\u001b[1;33m]\u001b[0m\u001b[1;33m)\u001b[0m\u001b[1;33m\u001b[0m\u001b[1;33m\u001b[0m\u001b[0m\n",
      "\u001b[1;32md:\\desktop\\thesis-pythonmain\\trainenv\\lib\\site-packages\\sklearn\\neighbors\\_base.py\u001b[0m in \u001b[0;36mfit\u001b[1;34m(self, X, y)\u001b[0m\n\u001b[0;32m   1149\u001b[0m             \u001b[0mself\u001b[0m\u001b[1;33m.\u001b[0m\u001b[0m_y\u001b[0m \u001b[1;33m=\u001b[0m \u001b[0mself\u001b[0m\u001b[1;33m.\u001b[0m\u001b[0m_y\u001b[0m\u001b[1;33m.\u001b[0m\u001b[0mravel\u001b[0m\u001b[1;33m(\u001b[0m\u001b[1;33m)\u001b[0m\u001b[1;33m\u001b[0m\u001b[1;33m\u001b[0m\u001b[0m\n\u001b[0;32m   1150\u001b[0m \u001b[1;33m\u001b[0m\u001b[0m\n\u001b[1;32m-> 1151\u001b[1;33m         \u001b[1;32mreturn\u001b[0m \u001b[0mself\u001b[0m\u001b[1;33m.\u001b[0m\u001b[0m_fit\u001b[0m\u001b[1;33m(\u001b[0m\u001b[0mX\u001b[0m\u001b[1;33m)\u001b[0m\u001b[1;33m\u001b[0m\u001b[1;33m\u001b[0m\u001b[0m\n\u001b[0m\u001b[0;32m   1152\u001b[0m \u001b[1;33m\u001b[0m\u001b[0m\n\u001b[0;32m   1153\u001b[0m \u001b[1;33m\u001b[0m\u001b[0m\n",
      "\u001b[1;32md:\\desktop\\thesis-pythonmain\\trainenv\\lib\\site-packages\\sklearn\\neighbors\\_base.py\u001b[0m in \u001b[0;36m_fit\u001b[1;34m(self, X)\u001b[0m\n\u001b[0;32m    455\u001b[0m             self._tree = KDTree(X, self.leaf_size,\n\u001b[0;32m    456\u001b[0m                                 \u001b[0mmetric\u001b[0m\u001b[1;33m=\u001b[0m\u001b[0mself\u001b[0m\u001b[1;33m.\u001b[0m\u001b[0meffective_metric_\u001b[0m\u001b[1;33m,\u001b[0m\u001b[1;33m\u001b[0m\u001b[1;33m\u001b[0m\u001b[0m\n\u001b[1;32m--> 457\u001b[1;33m                                 **self.effective_metric_params_)\n\u001b[0m\u001b[0;32m    458\u001b[0m         \u001b[1;32melif\u001b[0m \u001b[0mself\u001b[0m\u001b[1;33m.\u001b[0m\u001b[0m_fit_method\u001b[0m \u001b[1;33m==\u001b[0m \u001b[1;34m'brute'\u001b[0m\u001b[1;33m:\u001b[0m\u001b[1;33m\u001b[0m\u001b[1;33m\u001b[0m\u001b[0m\n\u001b[0;32m    459\u001b[0m             \u001b[0mself\u001b[0m\u001b[1;33m.\u001b[0m\u001b[0m_tree\u001b[0m \u001b[1;33m=\u001b[0m \u001b[1;32mNone\u001b[0m\u001b[1;33m\u001b[0m\u001b[1;33m\u001b[0m\u001b[0m\n",
      "\u001b[1;31mKeyboardInterrupt\u001b[0m: "
     ]
    }
   ],
   "source": [
    "max_neigh = None\n",
    "max_test_sc1 = None\n",
    "for neighbors in range(41, 200): \n",
    "    neigh_x = KNeighborsClassifier(n_neighbors=neighbors)\n",
    "    neigh_y = KNeighborsClassifier(n_neighbors=neighbors)\n",
    "    neigh_x.fit(X_train, Y_train[:, 0])\n",
    "    neigh_y.fit(X_train, Y_train[:, 1])\n",
    "    train_sc1 = neigh_x.score(X_train, Y_train[:, 0])\n",
    "    train_sc2 = neigh_y.score(X_train, Y_train[:, 1])\n",
    "    test_sc1 = neigh_x.score(X_test, Y_test[:, 0])\n",
    "    test_sc2 = neigh_y.score(X_test, Y_test[:, 1])\n",
    "    print(train_sc1, train_sc2, test_sc1, test_sc2)\n",
    "    if max_test_sc1 is None or test_sc1 > max_test_sc1:\n",
    "        max_neigh = neighbors\n",
    "        max_test_sc1 = test_sc1"
   ]
  },
  {
   "cell_type": "code",
   "execution_count": 23,
   "metadata": {},
   "outputs": [
    {
     "name": "stdout",
     "output_type": "stream",
     "text": [
      "41 0.2606111385624566\n"
     ]
    }
   ],
   "source": [
    "print(max_neigh, max_test_sc1)"
   ]
  },
  {
   "cell_type": "code",
   "execution_count": null,
   "metadata": {},
   "outputs": [],
   "source": [
    "max_neigh = 21, max_test_sc1 = 0.26"
   ]
  }
 ],
 "metadata": {
  "kernelspec": {
   "display_name": "Python 3",
   "language": "python",
   "name": "python3"
  },
  "language_info": {
   "codemirror_mode": {
    "name": "ipython",
    "version": 3
   },
   "file_extension": ".py",
   "mimetype": "text/x-python",
   "name": "python",
   "nbconvert_exporter": "python",
   "pygments_lexer": "ipython3",
   "version": "3.7.6"
  }
 },
 "nbformat": 4,
 "nbformat_minor": 4
}
