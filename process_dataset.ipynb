{
 "cells": [
  {
   "cell_type": "markdown",
   "metadata": {},
   "source": [
    "# Process Dataset"
   ]
  },
  {
   "cell_type": "markdown",
   "metadata": {},
   "source": [
    "## 1. Initialization"
   ]
  },
  {
   "cell_type": "code",
   "execution_count": 96,
   "metadata": {},
   "outputs": [],
   "source": [
    "step = 3\n",
    "img_folder = \".\\GeneratedDataset\\Dataset_Step=\" + str(step)\n",
    "data_path = img_folder + \"\\data.csv\"\n",
    "features_path = r\".\\ProcessedData\\Dataset_Step=\" + str(step) + r\"\\features.csv\"\n",
    "calc_components_path = r\".\\ProcessedData\\Dataset_Step=\" + str(step) + r\"\\calc_components.csv\"\n",
    "components_path = r\".\\ProcessedData\\Dataset_Step=\" + str(step) + r\"\\components.csv\"\n",
    "# %load_ext autoreload\n",
    "# %autoreload 2"
   ]
  },
  {
   "cell_type": "code",
   "execution_count": 97,
   "metadata": {},
   "outputs": [],
   "source": [
    "import pandas as pd\n",
    "from enum import Enum\n",
    "import os\n",
    "import numpy as np\n",
    "import cv2\n",
    "from matplotlib import pyplot as plt\n",
    "import timeit\n",
    "from IPython.display import clear_output\n",
    "from sklearn.decomposition import PCA\n",
    "from tracking_convdef import get_defect_points\n",
    "from draw_tools import draw_points, draw_contours\n",
    "from tracking_bound import segment_diff_fingers, get_bound_points\n",
    "from correct_tracking_convdef import get_centroid, fit_lost_contour"
   ]
  },
  {
   "cell_type": "markdown",
   "metadata": {},
   "source": [
    "## 2. Extract Features from images\n",
    "Interative read image, process the image, extract features, store in features_pd  \n",
    "If you already have the features_pd .csv file, jump to [here](#PCA)"
   ]
  },
  {
   "cell_type": "markdown",
   "metadata": {},
   "source": [
    "### Read CSV data from original data"
   ]
  },
  {
   "cell_type": "code",
   "execution_count": 25,
   "metadata": {},
   "outputs": [
    {
     "data": {
      "text/html": [
       "<div>\n",
       "<style scoped>\n",
       "    .dataframe tbody tr th:only-of-type {\n",
       "        vertical-align: middle;\n",
       "    }\n",
       "\n",
       "    .dataframe tbody tr th {\n",
       "        vertical-align: top;\n",
       "    }\n",
       "\n",
       "    .dataframe thead th {\n",
       "        text-align: right;\n",
       "    }\n",
       "</style>\n",
       "<table border=\"1\" class=\"dataframe\">\n",
       "  <thead>\n",
       "    <tr style=\"text-align: right;\">\n",
       "      <th></th>\n",
       "      <th>Gamma1</th>\n",
       "      <th>Gamma2</th>\n",
       "      <th>Gamma3</th>\n",
       "      <th>Alpha1</th>\n",
       "      <th>Alpha2</th>\n",
       "      <th>Beta</th>\n",
       "      <th>thumb_x</th>\n",
       "      <th>thumb_y</th>\n",
       "      <th>index_x</th>\n",
       "      <th>index_y</th>\n",
       "      <th>ImgName</th>\n",
       "    </tr>\n",
       "  </thead>\n",
       "  <tbody>\n",
       "    <tr>\n",
       "      <th>0</th>\n",
       "      <td>0.0</td>\n",
       "      <td>0.0</td>\n",
       "      <td>0.0</td>\n",
       "      <td>0.0</td>\n",
       "      <td>0.0</td>\n",
       "      <td>0.0</td>\n",
       "      <td>1</td>\n",
       "      <td>2</td>\n",
       "      <td>1</td>\n",
       "      <td>-2</td>\n",
       "      <td>2020_3_23_9_01_02_12_5956.png</td>\n",
       "    </tr>\n",
       "    <tr>\n",
       "      <th>1</th>\n",
       "      <td>0.0</td>\n",
       "      <td>0.0</td>\n",
       "      <td>0.0</td>\n",
       "      <td>0.0</td>\n",
       "      <td>4.0</td>\n",
       "      <td>0.0</td>\n",
       "      <td>1</td>\n",
       "      <td>1</td>\n",
       "      <td>1</td>\n",
       "      <td>0</td>\n",
       "      <td>2020_3_23_9_01_03_13_9563.png</td>\n",
       "    </tr>\n",
       "    <tr>\n",
       "      <th>2</th>\n",
       "      <td>0.0</td>\n",
       "      <td>0.0</td>\n",
       "      <td>0.0</td>\n",
       "      <td>0.0</td>\n",
       "      <td>0.0</td>\n",
       "      <td>4.0</td>\n",
       "      <td>1</td>\n",
       "      <td>2</td>\n",
       "      <td>-4</td>\n",
       "      <td>-2</td>\n",
       "      <td>2020_3_23_9_01_04_14_4567.png</td>\n",
       "    </tr>\n",
       "    <tr>\n",
       "      <th>3</th>\n",
       "      <td>0.0</td>\n",
       "      <td>0.0</td>\n",
       "      <td>0.0</td>\n",
       "      <td>0.0</td>\n",
       "      <td>0.0</td>\n",
       "      <td>-4.0</td>\n",
       "      <td>-1</td>\n",
       "      <td>3</td>\n",
       "      <td>6</td>\n",
       "      <td>-2</td>\n",
       "      <td>2020_3_23_9_01_04_14_8969.png</td>\n",
       "    </tr>\n",
       "    <tr>\n",
       "      <th>4</th>\n",
       "      <td>0.0</td>\n",
       "      <td>0.0</td>\n",
       "      <td>0.0</td>\n",
       "      <td>4.0</td>\n",
       "      <td>4.0</td>\n",
       "      <td>0.0</td>\n",
       "      <td>1</td>\n",
       "      <td>-1</td>\n",
       "      <td>2</td>\n",
       "      <td>3</td>\n",
       "      <td>2020_3_23_9_01_05_16_0155.png</td>\n",
       "    </tr>\n",
       "    <tr>\n",
       "      <th>5</th>\n",
       "      <td>0.0</td>\n",
       "      <td>0.0</td>\n",
       "      <td>0.0</td>\n",
       "      <td>0.0</td>\n",
       "      <td>8.0</td>\n",
       "      <td>0.0</td>\n",
       "      <td>1</td>\n",
       "      <td>0</td>\n",
       "      <td>1</td>\n",
       "      <td>2</td>\n",
       "      <td>2020_3_23_9_01_06_16_5160.png</td>\n",
       "    </tr>\n",
       "    <tr>\n",
       "      <th>6</th>\n",
       "      <td>0.0</td>\n",
       "      <td>0.0</td>\n",
       "      <td>0.0</td>\n",
       "      <td>0.0</td>\n",
       "      <td>4.0</td>\n",
       "      <td>4.0</td>\n",
       "      <td>1</td>\n",
       "      <td>1</td>\n",
       "      <td>-4</td>\n",
       "      <td>0</td>\n",
       "      <td>2020_3_23_9_01_06_16_8951.png</td>\n",
       "    </tr>\n",
       "    <tr>\n",
       "      <th>7</th>\n",
       "      <td>0.0</td>\n",
       "      <td>0.0</td>\n",
       "      <td>0.0</td>\n",
       "      <td>0.0</td>\n",
       "      <td>4.0</td>\n",
       "      <td>-4.0</td>\n",
       "      <td>-1</td>\n",
       "      <td>2</td>\n",
       "      <td>6</td>\n",
       "      <td>0</td>\n",
       "      <td>2020_3_23_9_01_07_17_2815.png</td>\n",
       "    </tr>\n",
       "    <tr>\n",
       "      <th>8</th>\n",
       "      <td>0.0</td>\n",
       "      <td>0.0</td>\n",
       "      <td>0.0</td>\n",
       "      <td>0.0</td>\n",
       "      <td>0.0</td>\n",
       "      <td>8.0</td>\n",
       "      <td>-1</td>\n",
       "      <td>3</td>\n",
       "      <td>-6</td>\n",
       "      <td>-2</td>\n",
       "      <td>2020_3_23_9_01_08_18_7357.png</td>\n",
       "    </tr>\n",
       "    <tr>\n",
       "      <th>9</th>\n",
       "      <td>0.0</td>\n",
       "      <td>0.0</td>\n",
       "      <td>0.0</td>\n",
       "      <td>4.0</td>\n",
       "      <td>0.0</td>\n",
       "      <td>-4.0</td>\n",
       "      <td>4</td>\n",
       "      <td>-1</td>\n",
       "      <td>4</td>\n",
       "      <td>1</td>\n",
       "      <td>2020_3_23_9_01_09_19_8759.png</td>\n",
       "    </tr>\n",
       "  </tbody>\n",
       "</table>\n",
       "</div>"
      ],
      "text/plain": [
       "   Gamma1  Gamma2  Gamma3  Alpha1  Alpha2  Beta  thumb_x  thumb_y  index_x  \\\n",
       "0     0.0     0.0     0.0     0.0     0.0   0.0        1        2        1   \n",
       "1     0.0     0.0     0.0     0.0     4.0   0.0        1        1        1   \n",
       "2     0.0     0.0     0.0     0.0     0.0   4.0        1        2       -4   \n",
       "3     0.0     0.0     0.0     0.0     0.0  -4.0       -1        3        6   \n",
       "4     0.0     0.0     0.0     4.0     4.0   0.0        1       -1        2   \n",
       "5     0.0     0.0     0.0     0.0     8.0   0.0        1        0        1   \n",
       "6     0.0     0.0     0.0     0.0     4.0   4.0        1        1       -4   \n",
       "7     0.0     0.0     0.0     0.0     4.0  -4.0       -1        2        6   \n",
       "8     0.0     0.0     0.0     0.0     0.0   8.0       -1        3       -6   \n",
       "9     0.0     0.0     0.0     4.0     0.0  -4.0        4       -1        4   \n",
       "\n",
       "   index_y                        ImgName  \n",
       "0       -2  2020_3_23_9_01_02_12_5956.png  \n",
       "1        0  2020_3_23_9_01_03_13_9563.png  \n",
       "2       -2  2020_3_23_9_01_04_14_4567.png  \n",
       "3       -2  2020_3_23_9_01_04_14_8969.png  \n",
       "4        3  2020_3_23_9_01_05_16_0155.png  \n",
       "5        2  2020_3_23_9_01_06_16_5160.png  \n",
       "6        0  2020_3_23_9_01_06_16_8951.png  \n",
       "7        0  2020_3_23_9_01_07_17_2815.png  \n",
       "8       -2  2020_3_23_9_01_08_18_7357.png  \n",
       "9        1  2020_3_23_9_01_09_19_8759.png  "
      ]
     },
     "execution_count": 25,
     "metadata": {},
     "output_type": "execute_result"
    }
   ],
   "source": [
    "origin_pd = pd.read_csv(data_path)\n",
    "origin_pd.head(10)"
   ]
  },
  {
   "cell_type": "markdown",
   "metadata": {},
   "source": [
    "### Initialize a features_pd dataframe"
   ]
  },
  {
   "cell_type": "code",
   "execution_count": 26,
   "metadata": {},
   "outputs": [],
   "source": [
    "class Features(Enum):\n",
    "    Defect_left_x   = 0    # left defect point\n",
    "    Defect_left_y   = 1    # left defect point\n",
    "    Defect_right_x  = 2    # right defect point\n",
    "    Defect_right_y  = 3    # right defect point\n",
    "    Centroid_up_x   = 4    # up finger (thumb) centroid point\n",
    "    Centroid_up_y   = 5    # up finger (thumb) centroid point\n",
    "    Centroid_down_x = 6    # down finger (index finger) centroid point\n",
    "    Centroid_down_y = 7    # down finger (index finger) centroid point\n",
    "    Top_left_x      = 8    # top left point of the boundary\n",
    "    Top_left_y      = 9    # top left point of the boundary\n",
    "    Top_right_x     = 10    # top right point of the boundary\n",
    "    Top_right_y     = 11   # top right point of the boundary\n",
    "    Bottom_left_x   = 12   # bottom left point of the boundary\n",
    "    Bottom_left_y   = 13   # bottom left point of the boundary\n",
    "    Bottom_right_x  = 14   # bottom right point of the boundary\n",
    "    Bottom_right_y  = 15   # bottom right point of the boundary\n",
    "    Lowest_up_x     = 16   # lowest point of up finger (thumb)   \n",
    "    Lowest_up_y     = 17   # lowest point of up finger (thumb)  \n",
    "    Rightest_down_x = 18   # rightest point of down finger (index finger)\n",
    "    Rightest_down_y = 19   # rightest point of down finger (index finger)\n",
    "\n",
    "class Labels(Enum):\n",
    "    Thumb_x = 0\n",
    "    Thumb_y = 1\n",
    "    Index_x = 2\n",
    "    Index_y = 3\n",
    "    ImgName = 4"
   ]
  },
  {
   "cell_type": "code",
   "execution_count": 27,
   "metadata": {},
   "outputs": [
    {
     "data": {
      "text/html": [
       "<div>\n",
       "<style scoped>\n",
       "    .dataframe tbody tr th:only-of-type {\n",
       "        vertical-align: middle;\n",
       "    }\n",
       "\n",
       "    .dataframe tbody tr th {\n",
       "        vertical-align: top;\n",
       "    }\n",
       "\n",
       "    .dataframe thead th {\n",
       "        text-align: right;\n",
       "    }\n",
       "</style>\n",
       "<table border=\"1\" class=\"dataframe\">\n",
       "  <thead>\n",
       "    <tr style=\"text-align: right;\">\n",
       "      <th></th>\n",
       "      <th>Defect_left_x</th>\n",
       "      <th>Defect_left_y</th>\n",
       "      <th>Defect_right_x</th>\n",
       "      <th>Defect_right_y</th>\n",
       "      <th>Centroid_up_x</th>\n",
       "      <th>Centroid_up_y</th>\n",
       "      <th>Centroid_down_x</th>\n",
       "      <th>Centroid_down_y</th>\n",
       "      <th>Top_left_x</th>\n",
       "      <th>Top_left_y</th>\n",
       "      <th>...</th>\n",
       "      <th>Bottom_right_y</th>\n",
       "      <th>Lowest_up_x</th>\n",
       "      <th>Lowest_up_y</th>\n",
       "      <th>Rightest_down_x</th>\n",
       "      <th>Rightest_down_y</th>\n",
       "      <th>Thumb_x</th>\n",
       "      <th>Thumb_y</th>\n",
       "      <th>Index_x</th>\n",
       "      <th>Index_y</th>\n",
       "      <th>ImgName</th>\n",
       "    </tr>\n",
       "  </thead>\n",
       "  <tbody>\n",
       "  </tbody>\n",
       "</table>\n",
       "<p>0 rows × 25 columns</p>\n",
       "</div>"
      ],
      "text/plain": [
       "Empty DataFrame\n",
       "Columns: [Defect_left_x, Defect_left_y, Defect_right_x, Defect_right_y, Centroid_up_x, Centroid_up_y, Centroid_down_x, Centroid_down_y, Top_left_x, Top_left_y, Top_right_x, Top_right_y, Bottom_left_x, Bottom_left_y, Bottom_right_x, Bottom_right_y, Lowest_up_x, Lowest_up_y, Rightest_down_x, Rightest_down_y, Thumb_x, Thumb_y, Index_x, Index_y, ImgName]\n",
       "Index: []\n",
       "\n",
       "[0 rows x 25 columns]"
      ]
     },
     "execution_count": 27,
     "metadata": {},
     "output_type": "execute_result"
    }
   ],
   "source": [
    "col = [str(_).split('.')[1] for _ in Features]\n",
    "col.extend([str(_).split('.')[1] for _ in Labels])\n",
    "features_pd = pd.DataFrame(None, columns=col)\n",
    "features_pd.head(10)"
   ]
  },
  {
   "cell_type": "markdown",
   "metadata": {},
   "source": [
    "### Iterate the images and add data to feature_pd dataframe"
   ]
  },
  {
   "cell_type": "code",
   "execution_count": 28,
   "metadata": {},
   "outputs": [],
   "source": [
    "def calc_features_points(pd, row, is_draw=False):\n",
    "    file_name = pd.loc[row]['ImgName']\n",
    "    file_path = os.path.join(img_folder, file_name)\n",
    "    bgr_image = cv2.imread(file_path)\n",
    "    IM_HEIGHT, IM_WIDTH, _ = bgr_image.shape\n",
    "\n",
    "    # ---------------------------------------------\n",
    "    # 1.1 Get the mask and its contour and apply the mask to image\n",
    "    # ---------------------------------------------\n",
    "    gray_image = cv2.cvtColor(bgr_image, cv2.COLOR_BGR2GRAY)\n",
    "    _, mask = cv2.threshold(gray_image, 10, 1, cv2.THRESH_BINARY)\n",
    "    finger_image = cv2.bitwise_and(bgr_image, bgr_image, mask=mask)\n",
    "    # Get the all contours, CHAIN_APPROX_NONE means get all the points\n",
    "    _, contours, _ = cv2.findContours(mask, cv2.RETR_CCOMP, cv2.CHAIN_APPROX_NONE)\n",
    "    contour = contours[0]\n",
    "\n",
    "    # ---------------------------------------------\n",
    "    # 1.2 Get defect points\n",
    "    # ---------------------------------------------\n",
    "    defect_points, _ = get_defect_points(contour)\n",
    "\n",
    "    # ---------------------------------------------\n",
    "    # 1.3 Divide up and down finger contour\n",
    "    # ---------------------------------------------\n",
    "    up_contour, down_contour = segment_diff_fingers(contour, defect_points)\n",
    "    up_centroid = get_centroid(up_contour)\n",
    "    down_centroid = get_centroid(down_contour)\n",
    "\n",
    "    # ---------------------------------------------\n",
    "    # 1.4 Get boundary points\n",
    "    # ---------------------------------------------\n",
    "    top_left, top_right, bottom_left, bottom_right = get_bound_points(\n",
    "        up_contour, down_contour, IM_HEIGHT, IM_WIDTH)\n",
    "\n",
    "    # ---------------------------------------------\n",
    "    # 1.5 Get touch line then lowest up point and rightest down point\n",
    "    # ---------------------------------------------\n",
    "    up_touch_line, _ = fit_lost_contour(\n",
    "                    IS_UP=True,\n",
    "                    contour=up_contour,\n",
    "                    bound_points=(top_left, top_right),\n",
    "                    fitting_curve=lambda X, Y: np.poly1d(np.polyfit(X, Y, 4)),\n",
    "                    defect_points=defect_points,\n",
    "                    draw_image=None)\n",
    "    lowest_up, rightest_down = None, None\n",
    "    if up_touch_line is not None and up_contour is not None and down_contour is not None:\n",
    "        index_list = np.where(up_contour[:, 0, 1] == max(up_contour[:, 0, 1]))[0]\n",
    "        tmp1 = tuple(up_contour[index_list[0], 0, :])\n",
    "        tmp2 = ((int)(up_centroid[0]), (int)(up_touch_line(up_centroid[0]))) \n",
    "        if tmp1[1] > tmp2[1]:\n",
    "            lowest_up = tmp1\n",
    "        else:\n",
    "            lowest_up = tmp2\n",
    "        index_list = np.where(down_contour[:, 0, 0] == max(down_contour[:, 0, 0]))[0]\n",
    "        rightest_down = tuple(down_contour[index_list[0], 0, :])\n",
    "\n",
    "    # ---------------------------------------------\n",
    "    # 1.6 Check None and form the feature data\n",
    "    # ---------------------------------------------\n",
    "    if defect_points is None:\n",
    "        return None\n",
    "    \n",
    "    features = [defect_points[0], \n",
    "                defect_points[1],\n",
    "                up_centroid,\n",
    "                down_centroid,\n",
    "                top_left,\n",
    "                top_right,\n",
    "                bottom_left,\n",
    "                bottom_right,\n",
    "                lowest_up,\n",
    "                rightest_down]\n",
    "    \n",
    "    if None in features:\n",
    "        return None\n",
    "    \n",
    "    # ---------------------------------------------\n",
    "    # 1.7 If show the points\n",
    "    # ---------------------------------------------\n",
    "    if is_draw:\n",
    "        # Two defect points (Green), centroid points (Blue), boundary points (Green-blue) \n",
    "        draw_points(finger_image, defect_points, color=[0, 255, 0])\n",
    "        draw_points(finger_image, up_centroid, color=[255, 0, 0])\n",
    "        draw_points(finger_image, down_centroid, color=[255, 0, 0])\n",
    "        draw_points(finger_image, top_left, radius=10, color=[255, 255, 0])\n",
    "        draw_points(finger_image, top_right, radius=10, color=[255, 255, 0])\n",
    "        draw_points(finger_image, bottom_left, radius=10, color=[255, 255, 0])\n",
    "        draw_points(finger_image, bottom_right, radius=10, color=[255, 255, 0])\n",
    "        draw_points(finger_image, lowest_up, color=[0, 255, 255])\n",
    "        draw_points(finger_image, rightest_down, color=[0, 255, 255])\n",
    "#         draw_contours(finger_image, down_contour)\n",
    "        plt.imshow(cv2.cvtColor(finger_image, cv2.COLOR_BGR2RGB))\n",
    "        plt.show()\n",
    "    \n",
    "    return features"
   ]
  },
  {
   "cell_type": "code",
   "execution_count": 29,
   "metadata": {},
   "outputs": [
    {
     "name": "stdout",
     "output_type": "stream",
     "text": [
      "Current Progress: 99.99 %\n",
      "Current Run Time: 5.22 minutes\n",
      "Excepted Run Time: 0.0 minutes\n",
      "Generate 8219 items\n"
     ]
    }
   ],
   "source": [
    "start_time = timeit.default_timer()\n",
    "\n",
    "for row in range(len(origin_pd)):\n",
    "    features = calc_features_points(origin_pd, row)\n",
    "    if features is None:\n",
    "        continue\n",
    "    else:\n",
    "        features = np.array(features).flatten()\n",
    "        labels = [origin_pd.loc[row]['thumb_x'], origin_pd.loc[row]['thumb_y'],\n",
    "                  origin_pd.loc[row]['index_x'], origin_pd.loc[row]['index_y'],\n",
    "                  origin_pd.loc[row]['ImgName']]\n",
    "        features = np.append(features, labels)\n",
    "        features_pd = features_pd.append(\n",
    "                    pd.Series(features, index=features_pd.columns), \n",
    "                    ignore_index=True)\n",
    "    \n",
    "    clear_output(wait=True)\n",
    "    stop_time = timeit.default_timer()\n",
    "    print(\"Current Progress:\", np.round((row + 1) / len(origin_pd) * 100, 2), \"%\")\n",
    "    print(\"Current Run Time:\", np.round((stop_time - start_time) / 60, 2), \"minutes\")\n",
    "    print(\"Excepted Run Time:\", np.round((stop_time - start_time) * \n",
    "                                         (len(origin_pd) / (row + 1) - 1) / 60, 2), \"minutes\")\n",
    "\n",
    "print(\"Generate\", len(features_pd), \"items\")"
   ]
  },
  {
   "cell_type": "markdown",
   "metadata": {},
   "source": [
    "### Save to .csv file"
   ]
  },
  {
   "cell_type": "code",
   "execution_count": 32,
   "metadata": {},
   "outputs": [],
   "source": [
    "features_pd.to_csv(features_path, index=False)"
   ]
  },
  {
   "cell_type": "markdown",
   "metadata": {},
   "source": [
    "<span id=\"PCA\"></span>\n",
    "## 3. Use PCA for features of images"
   ]
  },
  {
   "cell_type": "markdown",
   "metadata": {},
   "source": [
    "#### Read features data from csv file and pack to numpy array"
   ]
  },
  {
   "cell_type": "code",
   "execution_count": 98,
   "metadata": {},
   "outputs": [
    {
     "name": "stdout",
     "output_type": "stream",
     "text": [
      "Shape of feature numpy for PCA (76326, 20)\n"
     ]
    }
   ],
   "source": [
    "features_pd = pd.read_csv(features_path)\n",
    "X = features_pd.iloc[:, 0: 20].to_numpy()\n",
    "print(\"Shape of feature numpy for PCA\", X.shape)"
   ]
  },
  {
   "cell_type": "markdown",
   "metadata": {},
   "source": [
    "#### Use PCA to get component analysis"
   ]
  },
  {
   "cell_type": "code",
   "execution_count": 99,
   "metadata": {},
   "outputs": [
    {
     "name": "stdout",
     "output_type": "stream",
     "text": [
      "Extract 20 components from 20 features\n",
      "Percentages of components\n",
      " [0.911 0.045 0.015 0.01  0.008 0.004 0.003 0.002 0.001 0.001 0.001 0.\n",
      " 0.    0.    0.    0.    0.    0.    0.    0.   ]\n",
      "Accumulated percentages of components\n",
      " [(0, 0.911), (1, 0.956), (2, 0.971), (3, 0.981), (4, 0.989), (5, 0.992), (6, 0.995), (7, 0.997), (8, 0.998), (9, 0.998), (10, 0.999), (11, 0.999), (12, 1.0), (13, 1.0), (14, 1.0), (15, 1.0), (16, 1.0), (17, 1.0), (18, 1.0), (19, 1.0)]\n"
     ]
    }
   ],
   "source": [
    "# pca = PCA(n_components='mle')\n",
    "pca = PCA()\n",
    "pca.fit(X)\n",
    "print(\"Extract\", pca.n_components_, \"components from\", pca.n_features_, \"features\")\n",
    "print(\"Percentages of components\\n\", np.round(pca.explained_variance_ratio_, 3))\n",
    "accumulated_ratio = [np.round(sum(pca.explained_variance_ratio_[:i+1]), 3) \n",
    "                    for i in range(len(pca.explained_variance_ratio_))]\n",
    "print(\"Accumulated percentages of components\\n\", list(enumerate(accumulated_ratio)))"
   ]
  },
  {
   "cell_type": "markdown",
   "metadata": {},
   "source": [
    "#### Choose Components and save in disk"
   ]
  },
  {
   "cell_type": "code",
   "execution_count": 100,
   "metadata": {},
   "outputs": [
    {
     "name": "stdout",
     "output_type": "stream",
     "text": [
      "Choose 2 components\n"
     ]
    }
   ],
   "source": [
    "threshold = 0.95\n",
    "components_num = np.where(np.array(accumulated_ratio) >= threshold)[0][0] + 1\n",
    "print(\"Choose\", components_num, \"components\")\n",
    "\n",
    "# ---------------------------------------------\n",
    "# Store calculation method\n",
    "# ---------------------------------------------\n",
    "weight_list = pca.components_[:components_num]\n",
    "calc_component_pd = pd.DataFrame(weight_list, columns=features_pd.columns[:20])\n",
    "calc_component_pd.to_csv(calc_components_path, index=False)\n",
    "\n",
    "# ---------------------------------------------\n",
    "# Store component data\n",
    "# ---------------------------------------------\n",
    "component_data = pca.transform(X)[:, :components_num]\n",
    "col = []\n",
    "for i in range(components_num):\n",
    "    col.append(\"Component_\" + str(i))\n",
    "component_pd = pd.DataFrame(component_data, columns=col)\n",
    "labels_pd = features_pd.iloc[:, 20: len(features_pd.columns)]\n",
    "component_pd = component_pd.join(labels_pd)\n",
    "component_pd.to_csv(components_path, index=False)"
   ]
  },
  {
   "cell_type": "code",
   "execution_count": null,
   "metadata": {},
   "outputs": [],
   "source": []
  }
 ],
 "metadata": {
  "kernelspec": {
   "display_name": "Python 3",
   "language": "python",
   "name": "python3"
  },
  "language_info": {
   "codemirror_mode": {
    "name": "ipython",
    "version": 3
   },
   "file_extension": ".py",
   "mimetype": "text/x-python",
   "name": "python",
   "nbconvert_exporter": "python",
   "pygments_lexer": "ipython3",
   "version": "3.7.6"
  }
 },
 "nbformat": 4,
 "nbformat_minor": 4
}
