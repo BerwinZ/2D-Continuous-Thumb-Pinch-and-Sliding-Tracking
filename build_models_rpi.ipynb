{
 "cells": [
  {
   "cell_type": "markdown",
   "metadata": {},
   "source": [
    "# Build Models\n",
    "1. Use 20 features and 4 labels from features.csv\n",
    "2. Try different models"
   ]
  },
  {
   "cell_type": "markdown",
   "metadata": {},
   "source": [
    "## 1. Initialization"
   ]
  },
  {
   "cell_type": "code",
   "execution_count": 1,
   "metadata": {},
   "outputs": [],
   "source": [
    "step = 3\n",
    "processed_folder = r\".\\ProcessedData\\Dataset_Step=\" + str(step)\n",
    "model_folder = processed_folder + r\"\\models\"\n",
    "features_path = processed_folder + r\"\\features.csv\""
   ]
  },
  {
   "cell_type": "code",
   "execution_count": null,
   "metadata": {},
   "outputs": [],
   "source": [
    "import pandas as pd\n",
    "import os\n",
    "import numpy as np\n",
    "from enum import Enum\n",
    "from sklearn.model_selection import train_test_split\n",
    "import joblib \n",
    "from sklearn.multioutput import MultiOutputRegressor\n",
    "from sklearn.svm import SVR\n",
    "from sklearn.linear_model import LogisticRegression, LinearRegression\n",
    "from sklearn.experimental import enable_hist_gradient_boosting\n",
    "from sklearn.ensemble import RandomForestRegressor, AdaBoostRegressor, BaggingRegressor, \\\n",
    "BaggingRegressor, GradientBoostingRegressor, HistGradientBoostingRegressor, \\\n",
    "VotingRegressor\n",
    "import lightgbm as lgb\n",
    "from sklearn.neural_network import MLPRegressor\n",
    "from sklearn.gaussian_process import GaussianProcessRegressor\n",
    "from sklearn.gaussian_process.kernels import DotProduct, WhiteKernel"
   ]
  },
  {
   "cell_type": "markdown",
   "metadata": {},
   "source": [
    "## 2. Prepare data"
   ]
  },
  {
   "cell_type": "code",
   "execution_count": 5,
   "metadata": {},
   "outputs": [],
   "source": [
    "class FingerType(Enum):\n",
    "    Thumb = 0\n",
    "    Index = 1\n",
    "\n",
    "finger_type = FingerType.Thumb"
   ]
  },
  {
   "cell_type": "code",
   "execution_count": 6,
   "metadata": {},
   "outputs": [
    {
     "name": "stdout",
     "output_type": "stream",
     "text": [
      "Original dataset shape\n",
      "X: (54268, 20)  Y: (54268, 2)\n",
      "Train dataset shape\n",
      "X: (43414, 20)  Y: (43414, 2)\n",
      "Test dataset shape\n",
      "X: (10854, 20)  Y: (10854, 2)\n"
     ]
    }
   ],
   "source": [
    "features_pd = pd.read_csv(features_path)\n",
    "X = features_pd.iloc[:, 0: 20].to_numpy()\n",
    "if finger_type == FingerType.Thumb:\n",
    "    Y =  features_pd.iloc[:, 20: 22].to_numpy()\n",
    "elif finger_type == FingerType.Index:\n",
    "    Y =  features_pd.iloc[:, 22: 24].to_numpy()\n",
    "\n",
    "print(\"Original dataset shape\")\n",
    "print(\"X:\", X.shape, \" Y:\", Y.shape)\n",
    "\n",
    "X_train, X_test, Y_train, Y_test = train_test_split(X, Y, test_size=0.2, random_state=42)\n",
    "print(\"Train dataset shape\")\n",
    "print(\"X:\", X_train.shape, \" Y:\", Y_train.shape)\n",
    "print(\"Test dataset shape\")\n",
    "print(\"X:\", X_test.shape, \" Y:\", Y_test.shape)"
   ]
  },
  {
   "cell_type": "markdown",
   "metadata": {},
   "source": [
    "## 3. Prepare the regression model pipeline"
   ]
  },
  {
   "cell_type": "code",
   "execution_count": 7,
   "metadata": {},
   "outputs": [],
   "source": [
    "def generate_model(single_model):\n",
    "    model = MultiOutputRegressor(single_model)\n",
    "    model.fit(X_train, Y_train)\n",
    "    score = model.score(X_test, Y_test)\n",
    "    model_path = model_folder + r\"\\\\\" +  \\\n",
    "                    str(round(score, 3)) + r\"_\" +  \\\n",
    "                    str(model.get_params()['estimator']).split('(')[0]\n",
    "    joblib.dump(model, model_path)\n",
    "    print(round(score * 100, 1), \"%\")\n",
    "    print(\"Save model file\", model_path)\n",
    "    return model, model_path"
   ]
  },
  {
   "cell_type": "markdown",
   "metadata": {},
   "source": [
    "## 4. Use specific model"
   ]
  },
  {
   "cell_type": "code",
   "execution_count": 12,
   "metadata": {},
   "outputs": [],
   "source": [
    "# single_model = SVR(kernel='linear', C=1.0, epsilon=0.2, max_iter=10000)\n",
    "# single_model = SVR(kernel='poly', C=1.0, epsilon=0.2, max_iter=10000)\n",
    "# single_model = SVR(kernel='sigmoid', C=1.0, epsilon=0.2, tol=0.1)\n",
    "# single_model = LogisticRegression(random_state=0)\n",
    "\n",
    "# ** single_model = RandomForestRegressor(max_depth=20)\n",
    "\n",
    "# single_model = LinearRegression()\n",
    "\n",
    "# single_model = AdaBoostRegressor(random_state=0, n_estimators=100, loss='square')\n",
    "# single_model = BaggingRegressor(base_estimator=SVR(), n_estimators=10, random_state=0)\n",
    "\n",
    "# ** single_model = GradientBoostingRegressor(n_estimators=10000)\n",
    "# ** single_model = HistGradientBoostingRegressor(max_iter=10000)\n",
    "\n",
    "# r1 = RandomForestRegressor(max_depth=None, random_state=None)\n",
    "# r2 = GradientBoostingRegressor(n_estimators=10000)\n",
    "# r3 = HistGradientBoostingRegressor(max_iter=10000)\n",
    "# ** single_model = VotingRegressor([('RF', r1), ('GB', r2), ('HGB', r3)])\n",
    "\n",
    "# LR1 = LinearRegression()\n",
    "# LR2 = LinearRegression()\n",
    "# LR3 = LinearRegression()\n",
    "# single_model = VotingRegressor([('LR1', r1), ('LR2', r2), ('LR3', r3)])\n",
    "\n",
    "# ** single_model = lgb.LGBMRegressor(boosting_type='dart', num_leaves=100, n_estimators=10000)\n",
    "\n",
    "# single_model = MLPRegressor()\n",
    "\n",
    "kernel = DotProduct() + WhiteKernel()\n",
    "single_model = GaussianProcessRegressor(kernel=kernel, random_state=0)"
   ]
  },
  {
   "cell_type": "code",
   "execution_count": null,
   "metadata": {},
   "outputs": [],
   "source": [
    "model, model_path = generate_model(single_model)"
   ]
  },
  {
   "cell_type": "markdown",
   "metadata": {},
   "source": [
    "## 5. Load model from disk and check again"
   ]
  },
  {
   "cell_type": "code",
   "execution_count": 60,
   "metadata": {},
   "outputs": [
    {
     "name": "stdout",
     "output_type": "stream",
     "text": [
      "Original dataset shape\n",
      "X: (420, 20)  Y: (420, 2)\n"
     ]
    }
   ],
   "source": [
    "step = 4\n",
    "features_pd = pd.read_csv(r\".\\ProcessedData\\Dataset_Step=\" + str(step) + r\"\\features.csv\")\n",
    "X_a = features_pd.iloc[:, 0: 20].to_numpy()\n",
    "if finger_type == FingerType.Thumb:\n",
    "    Y_a =  features_pd.iloc[:, 20: 22].to_numpy()\n",
    "elif finger_type == FingerType.Index:\n",
    "    Y_a =  features_pd.iloc[:, 22: 24].to_numpy()\n",
    "print(\"Original dataset shape\")\n",
    "print(\"X:\", X_a.shape, \" Y:\", Y_a.shape)"
   ]
  },
  {
   "cell_type": "code",
   "execution_count": 4,
   "metadata": {},
   "outputs": [],
   "source": [
    "model_path = r'./ProcessedData/Dataset_Step=3/models/0.893_LGBMRegressor'\n",
    "model = joblib.load(model_path)\n",
    "# model.get_params()"
   ]
  },
  {
   "cell_type": "code",
   "execution_count": 62,
   "metadata": {},
   "outputs": [
    {
     "name": "stdout",
     "output_type": "stream",
     "text": [
      "89.2 %\n"
     ]
    }
   ],
   "source": [
    "score = model.score(X_a, Y_a)\n",
    "print(round(score * 100, 1), \"%\")"
   ]
  },
  {
   "cell_type": "code",
   "execution_count": 7,
   "metadata": {},
   "outputs": [],
   "source": [
    "import os\n",
    "\n",
    "files = os.listdir(model_folder)\n",
    "for file in files:    \n",
    "    parts = file.split('_')\n",
    "    file_name = '_'.join(parts[::-1])\n",
    "#     print(model_folder + r'\\\\' + file, file_name)\n",
    "    os.rename(model_folder + r'\\\\' + file, file_name)"
   ]
  },
  {
   "cell_type": "code",
   "execution_count": null,
   "metadata": {},
   "outputs": [],
   "source": []
  }
 ],
 "metadata": {
  "kernelspec": {
   "display_name": "Python 3",
   "language": "python",
   "name": "python3"
  },
  "language_info": {
   "codemirror_mode": {
    "name": "ipython",
    "version": 3
   },
   "file_extension": ".py",
   "mimetype": "text/x-python",
   "name": "python",
   "nbconvert_exporter": "python",
   "pygments_lexer": "ipython3",
   "version": "3.7.3"
  }
 },
 "nbformat": 4,
 "nbformat_minor": 4
}
